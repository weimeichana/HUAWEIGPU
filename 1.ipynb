{
 "cells": [
  {
   "cell_type": "code",
   "execution_count": 9,
   "id": "4ea68b7c-d903-4c10-9c7b-01da317451d9",
   "metadata": {},
   "outputs": [
    {
     "name": "stdout",
     "output_type": "stream",
     "text": [
      "epoch: 0, loss is 197.6458\n",
      "epoch: 1, loss is 141.7493\n",
      "epoch: 2, loss is 101.95397\n",
      "epoch: 3, loss is 73.621155\n",
      "epoch: 4, loss is 53.448586\n",
      "epoch: 5, loss is 39.085354\n",
      "epoch: 6, loss is 28.857883\n",
      "epoch: 7, loss is 21.574745\n",
      "epoch: 8, loss is 16.38775\n",
      "epoch: 9, loss is 12.693083\n",
      "epoch: 10, loss is 10.060879\n",
      "epoch: 11, loss is 8.185118\n",
      "epoch: 12, loss is 6.8479385\n",
      "epoch: 13, loss is 5.89425\n",
      "epoch: 14, loss is 5.2136326\n",
      "epoch: 15, loss is 4.72748\n",
      "epoch: 16, loss is 4.3798294\n",
      "epoch: 17, loss is 4.130838\n",
      "epoch: 18, loss is 3.9521432\n",
      "epoch: 19, loss is 3.8235457\n"
     ]
    }
   ],
   "source": [
    "import os\n",
    "# os.environ['DEVICE_ID'] = '0'\n",
    "import numpy as np\n",
    "\n",
    "import mindspore as ms\n",
    "from mindspore import nn\n",
    "from mindspore import context\n",
    "#当前实验选择算力为Ascend，如果在本地体验，参数device_target设置为\"CPU”\n",
    "\n",
    "context.set_context(mode=context.GRAPH_MODE, device_target=\"Ascend\")\n",
    "\n",
    "x = np.arange(-5, 5, 0.3)[:32].reshape((32, 1))\n",
    "y = -5 * x +  0.1 * np.random.normal(loc=0.0, scale=20.0, size=x.shape)\n",
    "\n",
    "net = nn.Dense(1, 1)\n",
    "loss_fn = nn.loss.MSELoss()\n",
    "opt = nn.optim.SGD(net.trainable_params(), learning_rate=0.01)\n",
    "with_loss = nn.WithLossCell(net, loss_fn)\n",
    "train_step = nn.TrainOneStepCell(with_loss, opt).set_train()\n",
    "\n",
    "for epoch in range(20):\n",
    "    loss = train_step(ms.Tensor(x, ms.float32), ms.Tensor(y, ms.float32))\n",
    "    print('epoch: {0}, loss is {1}'.format(epoch, loss))"
   ]
  },
  {
   "cell_type": "code",
   "execution_count": 7,
   "id": "f45a6a01-d38e-48ee-afe5-b708033c1e1b",
   "metadata": {},
   "outputs": [
    {
     "name": "stdout",
     "output_type": "stream",
     "text": [
      "The true linear function is y = -5 * x + 0.1\n",
      "The trained linear model is y = -4.732028961181641 * x + 0.14455828070640564\n",
      "x = -10, predicted y = [[47.464848]]\n",
      "x = -5, predicted y = [[23.804703]]\n",
      "x = 0, predicted y = [[0.14455828]]\n",
      "x = 5, predicted y = [[-23.515587]]\n",
      "x = 10, predicted y = [[-47.17573]]\n"
     ]
    }
   ],
   "source": [
    "wb = [x.asnumpy() for x in net.trainable_params()]\n",
    "w, b = np.squeeze(wb[0]), np.squeeze(wb[1])\n",
    "print('The true linear function is y = -5 * x + 0.1')\n",
    "print('The trained linear model is y = {0} * x + {1}'.format(w, b))\n",
    "\n",
    "for i in range(-10, 11, 5):\n",
    "    print('x = {0}, predicted y = {1}'.format(i, net(ms.Tensor([[i]], ms.float32))))"
   ]
  },
  {
   "cell_type": "code",
   "execution_count": 8,
   "id": "efa0f660-4d1c-4e48-9791-939409e0939e",
   "metadata": {},
   "outputs": [
    {
     "data": {
      "text/plain": [
       "<matplotlib.legend.Legend at 0xffff1c1ed910>"
      ]
     },
     "execution_count": 8,
     "metadata": {},
     "output_type": "execute_result"
    },
    {
     "data": {
      "image/png": "[encoded data removed]",
      "text/plain": [
       "<Figure size 432x288 with 1 Axes>"
      ]
     },
     "metadata": {
      "needs_background": "light"
     },
     "output_type": "display_data"
    }
   ],
   "source": [
    "from matplotlib import pyplot as plt\n",
    "%matplotlib inline\n",
    "plt.scatter(x, y, label='Samples')\n",
    "plt.plot(x, w * x +  b, c='r', label='True function')\n",
    "plt.plot(x, -5 * x +  0.1, c='b', label='Trained model')\n",
    "plt.legend()"
   ]
  }
 ],
 "metadata": {
  "kernelspec": {
   "display_name": "MindSpore",
   "language": "python",
   "name": "mindspore"
  },
  "language_info": {
   "codemirror_mode": {
    "name": "ipython",
    "version": 3
   },
   "file_extension": ".py",
   "mimetype": "text/x-python",
   "name": "python",
   "nbconvert_exporter": "python",
   "pygments_lexer": "ipython3",
   "version": "3.7.6"
  },
  "toc-autonumbering": true
 },
 "nbformat": 4,
 "nbformat_minor": 5
}
